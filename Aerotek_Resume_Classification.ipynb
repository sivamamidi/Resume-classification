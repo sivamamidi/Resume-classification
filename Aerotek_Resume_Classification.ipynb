{
  "nbformat": 4,
  "nbformat_minor": 0,
  "metadata": {
    "colab": {
      "provenance": []
    },
    "kernelspec": {
      "name": "python3",
      "display_name": "Python 3"
    },
    "language_info": {
      "name": "python"
    }
  },
  "cells": [
    {
      "cell_type": "code",
      "metadata": {
        "id": "_rJnSXiGGWx2",
        "colab": {
          "base_uri": "https://localhost:8080/"
        },
        "outputId": "ffcf1966-b2d8-41ee-b1f2-f67aab38a94f"
      },
      "source": [
        "import pandas as pd\n",
        "import matplotlib.pyplot as plt\n",
        "import numpy as np\n",
        "import re\n",
        "import nltk\n",
        "nltk.download('stopwords')\n",
        "nltk.download('punkt')\n",
        "import string\n",
        "from nltk.corpus import stopwords\n",
        "\n",
        "stops = set(stopwords.words('english'))\n",
        "\n",
        "from nltk.tokenize import word_tokenize\n",
        "import tensorflow as tf\n",
        "from tensorflow.keras.preprocessing.text import Tokenizer\n",
        "from tensorflow.keras.preprocessing.sequence import pad_sequences"
      ],
      "execution_count": null,
      "outputs": [
        {
          "output_type": "stream",
          "text": [
            "[nltk_data] Downloading package stopwords to /root/nltk_data...\n",
            "[nltk_data]   Unzipping corpora/stopwords.zip.\n",
            "[nltk_data] Downloading package punkt to /root/nltk_data...\n",
            "[nltk_data]   Unzipping tokenizers/punkt.zip.\n"
          ],
          "name": "stdout"
        }
      ]
    },
    {
      "cell_type": "code",
      "metadata": {
        "id": "K84fCnzRHbSx"
      },
      "source": [
        "\n",
        "df = pd.read_csv('/content/Aerotek_Resume_Classification.csv')"
      ],
      "execution_count": null,
      "outputs": []
    },
    {
      "cell_type": "code",
      "metadata": {
        "colab": {
          "base_uri": "https://localhost:8080/",
          "height": 203
        },
        "id": "1bf8NsqRHkb3",
        "outputId": "34118f01-1968-47a1-a5ab-9d74dd24b4c2"
      },
      "source": [
        "df.head()"
      ],
      "execution_count": null,
      "outputs": [
        {
          "output_type": "execute_result",
          "data": {
            "text/html": [
              "<div>\n",
              "<style scoped>\n",
              "    .dataframe tbody tr th:only-of-type {\n",
              "        vertical-align: middle;\n",
              "    }\n",
              "\n",
              "    .dataframe tbody tr th {\n",
              "        vertical-align: top;\n",
              "    }\n",
              "\n",
              "    .dataframe thead th {\n",
              "        text-align: right;\n",
              "    }\n",
              "</style>\n",
              "<table border=\"1\" class=\"dataframe\">\n",
              "  <thead>\n",
              "    <tr style=\"text-align: right;\">\n",
              "      <th></th>\n",
              "      <th>Category</th>\n",
              "      <th>Resume</th>\n",
              "    </tr>\n",
              "  </thead>\n",
              "  <tbody>\n",
              "    <tr>\n",
              "      <th>0</th>\n",
              "      <td>Data Science</td>\n",
              "      <td>Skills * Programming Languages: Python (pandas...</td>\n",
              "    </tr>\n",
              "    <tr>\n",
              "      <th>1</th>\n",
              "      <td>Data Science</td>\n",
              "      <td>Education Details \\r\\nMay 2013 to May 2017 B.E...</td>\n",
              "    </tr>\n",
              "    <tr>\n",
              "      <th>2</th>\n",
              "      <td>Data Science</td>\n",
              "      <td>Areas of Interest Deep Learning, Control Syste...</td>\n",
              "    </tr>\n",
              "    <tr>\n",
              "      <th>3</th>\n",
              "      <td>Data Science</td>\n",
              "      <td>Skills â¢ R â¢ Python â¢ SAP HANA â¢ Table...</td>\n",
              "    </tr>\n",
              "    <tr>\n",
              "      <th>4</th>\n",
              "      <td>Data Science</td>\n",
              "      <td>Education Details \\r\\n MCA   YMCAUST,  Faridab...</td>\n",
              "    </tr>\n",
              "  </tbody>\n",
              "</table>\n",
              "</div>"
            ],
            "text/plain": [
              "       Category                                             Resume\n",
              "0  Data Science  Skills * Programming Languages: Python (pandas...\n",
              "1  Data Science  Education Details \\r\\nMay 2013 to May 2017 B.E...\n",
              "2  Data Science  Areas of Interest Deep Learning, Control Syste...\n",
              "3  Data Science  Skills â¢ R â¢ Python â¢ SAP HANA â¢ Table...\n",
              "4  Data Science  Education Details \\r\\n MCA   YMCAUST,  Faridab..."
            ]
          },
          "metadata": {
            "tags": []
          },
          "execution_count": 4
        }
      ]
    },
    {
      "cell_type": "code",
      "metadata": {
        "colab": {
          "base_uri": "https://localhost:8080/"
        },
        "id": "cYVZ3C_AHnKD",
        "outputId": "493cdc63-961d-4abb-9985-36d05501b0fb"
      },
      "source": [
        "print('unique categories present  in the category column',df['Category'].unique())"
      ],
      "execution_count": null,
      "outputs": [
        {
          "output_type": "stream",
          "text": [
            "unique categories present  in the category column ['Data Science' 'Non-IT' 'Testing' 'Technical Maintenance' 'Developer'\n",
            " 'Database']\n"
          ],
          "name": "stdout"
        }
      ]
    },
    {
      "cell_type": "code",
      "metadata": {
        "colab": {
          "base_uri": "https://localhost:8080/",
          "height": 282
        },
        "id": "wGeQ4t4dH9Ko",
        "outputId": "5e0f3537-b685-4b67-df86-89a69a21470e"
      },
      "source": [
        "df['Category'].value_counts().plot(kind='barh')"
      ],
      "execution_count": null,
      "outputs": [
        {
          "output_type": "execute_result",
          "data": {
            "text/plain": [
              "<matplotlib.axes._subplots.AxesSubplot at 0x7fc25db7f690>"
            ]
          },
          "metadata": {
            "tags": []
          },
          "execution_count": 6
        },
        {
          "output_type": "display_data",
          "data": {
            "image/png": "[encoded data removed]",
            "text/plain": [
              "<Figure size 432x288 with 1 Axes>"
            ]
          },
          "metadata": {
            "tags": [],
            "needs_background": "light"
          }
        }
      ]
    },
    {
      "cell_type": "code",
      "metadata": {
        "colab": {
          "base_uri": "https://localhost:8080/"
        },
        "id": "uj0s7FhiIv41",
        "outputId": "e96a5b7d-036a-4d5e-eaec-306f9658280e"
      },
      "source": [
        "df['Category'].value_counts().min()"
      ],
      "execution_count": null,
      "outputs": [
        {
          "output_type": "execute_result",
          "data": {
            "text/plain": [
              "68"
            ]
          },
          "metadata": {
            "tags": []
          },
          "execution_count": 7
        }
      ]
    },
    {
      "cell_type": "code",
      "metadata": {
        "colab": {
          "base_uri": "https://localhost:8080/",
          "height": 417
        },
        "id": "4vsVhG7rOnfi",
        "outputId": "c9984606-6f32-41d7-c1ee-dd00005973f3"
      },
      "source": [
        "df"
      ],
      "execution_count": null,
      "outputs": [
        {
          "output_type": "execute_result",
          "data": {
            "text/html": [
              "<div>\n",
              "<style scoped>\n",
              "    .dataframe tbody tr th:only-of-type {\n",
              "        vertical-align: middle;\n",
              "    }\n",
              "\n",
              "    .dataframe tbody tr th {\n",
              "        vertical-align: top;\n",
              "    }\n",
              "\n",
              "    .dataframe thead th {\n",
              "        text-align: right;\n",
              "    }\n",
              "</style>\n",
              "<table border=\"1\" class=\"dataframe\">\n",
              "  <thead>\n",
              "    <tr style=\"text-align: right;\">\n",
              "      <th></th>\n",
              "      <th>Category</th>\n",
              "      <th>Resume</th>\n",
              "    </tr>\n",
              "  </thead>\n",
              "  <tbody>\n",
              "    <tr>\n",
              "      <th>0</th>\n",
              "      <td>Data Science</td>\n",
              "      <td>Skills * Programming Languages: Python (pandas...</td>\n",
              "    </tr>\n",
              "    <tr>\n",
              "      <th>1</th>\n",
              "      <td>Data Science</td>\n",
              "      <td>Education Details \\r\\nMay 2013 to May 2017 B.E...</td>\n",
              "    </tr>\n",
              "    <tr>\n",
              "      <th>2</th>\n",
              "      <td>Data Science</td>\n",
              "      <td>Areas of Interest Deep Learning, Control Syste...</td>\n",
              "    </tr>\n",
              "    <tr>\n",
              "      <th>3</th>\n",
              "      <td>Data Science</td>\n",
              "      <td>Skills â¢ R â¢ Python â¢ SAP HANA â¢ Table...</td>\n",
              "    </tr>\n",
              "    <tr>\n",
              "      <th>4</th>\n",
              "      <td>Data Science</td>\n",
              "      <td>Education Details \\r\\n MCA   YMCAUST,  Faridab...</td>\n",
              "    </tr>\n",
              "    <tr>\n",
              "      <th>...</th>\n",
              "      <td>...</td>\n",
              "      <td>...</td>\n",
              "    </tr>\n",
              "    <tr>\n",
              "      <th>957</th>\n",
              "      <td>Testing</td>\n",
              "      <td>Computer Skills: â¢ Proficient in MS office (...</td>\n",
              "    </tr>\n",
              "    <tr>\n",
              "      <th>958</th>\n",
              "      <td>Testing</td>\n",
              "      <td>â Willingness to accept the challenges. â ...</td>\n",
              "    </tr>\n",
              "    <tr>\n",
              "      <th>959</th>\n",
              "      <td>Testing</td>\n",
              "      <td>PERSONAL SKILLS â¢ Quick learner, â¢ Eagerne...</td>\n",
              "    </tr>\n",
              "    <tr>\n",
              "      <th>960</th>\n",
              "      <td>Testing</td>\n",
              "      <td>COMPUTER SKILLS &amp; SOFTWARE KNOWLEDGE MS-Power ...</td>\n",
              "    </tr>\n",
              "    <tr>\n",
              "      <th>961</th>\n",
              "      <td>Testing</td>\n",
              "      <td>Skill Set OS Windows XP/7/8/8.1/10 Database MY...</td>\n",
              "    </tr>\n",
              "  </tbody>\n",
              "</table>\n",
              "<p>962 rows × 2 columns</p>\n",
              "</div>"
            ],
            "text/plain": [
              "         Category                                             Resume\n",
              "0    Data Science  Skills * Programming Languages: Python (pandas...\n",
              "1    Data Science  Education Details \\r\\nMay 2013 to May 2017 B.E...\n",
              "2    Data Science  Areas of Interest Deep Learning, Control Syste...\n",
              "3    Data Science  Skills â¢ R â¢ Python â¢ SAP HANA â¢ Table...\n",
              "4    Data Science  Education Details \\r\\n MCA   YMCAUST,  Faridab...\n",
              "..            ...                                                ...\n",
              "957       Testing  Computer Skills: â¢ Proficient in MS office (...\n",
              "958       Testing  â Willingness to accept the challenges. â ...\n",
              "959       Testing  PERSONAL SKILLS â¢ Quick learner, â¢ Eagerne...\n",
              "960       Testing  COMPUTER SKILLS & SOFTWARE KNOWLEDGE MS-Power ...\n",
              "961       Testing  Skill Set OS Windows XP/7/8/8.1/10 Database MY...\n",
              "\n",
              "[962 rows x 2 columns]"
            ]
          },
          "metadata": {
            "tags": []
          },
          "execution_count": 8
        }
      ]
    },
    {
      "cell_type": "code",
      "metadata": {
        "colab": {
          "base_uri": "https://localhost:8080/"
        },
        "id": "lFg3eDk3IcPY",
        "outputId": "f393e771-ce27-413a-f0e6-0438cd7d1022"
      },
      "source": [
        "df.isnull().sum()"
      ],
      "execution_count": null,
      "outputs": [
        {
          "output_type": "execute_result",
          "data": {
            "text/plain": [
              "Category    0\n",
              "Resume      0\n",
              "dtype: int64"
            ]
          },
          "metadata": {
            "tags": []
          },
          "execution_count": 9
        }
      ]
    },
    {
      "cell_type": "code",
      "metadata": {
        "id": "wVyiNml7PMzK"
      },
      "source": [
        "# cleaning the data"
      ],
      "execution_count": null,
      "outputs": []
    },
    {
      "cell_type": "code",
      "metadata": {
        "id": "zFrETzmUS63X"
      },
      "source": [
        "def clean_text(text):\n",
        "  text = text.lower()\n",
        "  text = re.sub('http\\S+\\s*',' ',text) # remove url\n",
        "  text = re.sub('RT|cc',' ',text) # remove RT and cc\n",
        "  text = re.sub('#\\S+','',text) # remove hastags\n",
        "  text = re.sub('@\\S+',' ',text) # remove mentions\n",
        "  text = re.sub('[@%s]' % re.escape(\"\"\"!\"#$%&'()*+,-/:;<=>?@[\\]^_`{|}~\"\"\"),' ',text)\n",
        "  # remove punctuations\n",
        "  text = re.sub(r'[^\\x00-\\x7f]',r' ',text)\n",
        "  text = re.sub('\\s+', ' ', text)\n",
        "\n",
        "  text = re.sub('[^a-z]',' ',text)\n",
        "\n",
        "  text = re.sub('\\.+',' ',text)\n",
        "  word_token = word_tokenize(text)\n",
        "  text = [words for words in word_token if words not in stops]\n",
        "  text = [words for words in text if words not in string.punctuation]\n",
        "  return ' '.join(text)\n",
        "\n",
        "\n",
        "\n",
        ""
      ],
      "execution_count": null,
      "outputs": []
    },
    {
      "cell_type": "code",
      "metadata": {
        "id": "84OaYnBtIoP5"
      },
      "source": [
        "df['cleaned_resume'] = df['Resume'].apply(lambda x: clean_text(x))"
      ],
      "execution_count": null,
      "outputs": []
    },
    {
      "cell_type": "code",
      "metadata": {
        "colab": {
          "base_uri": "https://localhost:8080/",
          "height": 203
        },
        "id": "MyIZriiUUmVd",
        "outputId": "311b4e03-d402-43c5-df91-9e183cdde09f"
      },
      "source": [
        "df.head()"
      ],
      "execution_count": null,
      "outputs": [
        {
          "output_type": "execute_result",
          "data": {
            "text/html": [
              "<div>\n",
              "<style scoped>\n",
              "    .dataframe tbody tr th:only-of-type {\n",
              "        vertical-align: middle;\n",
              "    }\n",
              "\n",
              "    .dataframe tbody tr th {\n",
              "        vertical-align: top;\n",
              "    }\n",
              "\n",
              "    .dataframe thead th {\n",
              "        text-align: right;\n",
              "    }\n",
              "</style>\n",
              "<table border=\"1\" class=\"dataframe\">\n",
              "  <thead>\n",
              "    <tr style=\"text-align: right;\">\n",
              "      <th></th>\n",
              "      <th>Category</th>\n",
              "      <th>Resume</th>\n",
              "      <th>cleaned_resume</th>\n",
              "    </tr>\n",
              "  </thead>\n",
              "  <tbody>\n",
              "    <tr>\n",
              "      <th>0</th>\n",
              "      <td>Data Science</td>\n",
              "      <td>Skills * Programming Languages: Python (pandas...</td>\n",
              "      <td>skills programming languages python pandas num...</td>\n",
              "    </tr>\n",
              "    <tr>\n",
              "      <th>1</th>\n",
              "      <td>Data Science</td>\n",
              "      <td>Education Details \\r\\nMay 2013 to May 2017 B.E...</td>\n",
              "      <td>education details may may b e uit rgpv data sc...</td>\n",
              "    </tr>\n",
              "    <tr>\n",
              "      <th>2</th>\n",
              "      <td>Data Science</td>\n",
              "      <td>Areas of Interest Deep Learning, Control Syste...</td>\n",
              "      <td>areas interest deep learning control system de...</td>\n",
              "    </tr>\n",
              "    <tr>\n",
              "      <th>3</th>\n",
              "      <td>Data Science</td>\n",
              "      <td>Skills â¢ R â¢ Python â¢ SAP HANA â¢ Table...</td>\n",
              "      <td>skills r python sap hana tableau sap hana sql ...</td>\n",
              "    </tr>\n",
              "    <tr>\n",
              "      <th>4</th>\n",
              "      <td>Data Science</td>\n",
              "      <td>Education Details \\r\\n MCA   YMCAUST,  Faridab...</td>\n",
              "      <td>education details mca ymcaust faridabad haryan...</td>\n",
              "    </tr>\n",
              "  </tbody>\n",
              "</table>\n",
              "</div>"
            ],
            "text/plain": [
              "       Category  ...                                     cleaned_resume\n",
              "0  Data Science  ...  skills programming languages python pandas num...\n",
              "1  Data Science  ...  education details may may b e uit rgpv data sc...\n",
              "2  Data Science  ...  areas interest deep learning control system de...\n",
              "3  Data Science  ...  skills r python sap hana tableau sap hana sql ...\n",
              "4  Data Science  ...  education details mca ymcaust faridabad haryan...\n",
              "\n",
              "[5 rows x 3 columns]"
            ]
          },
          "metadata": {
            "tags": []
          },
          "execution_count": 13
        }
      ]
    },
    {
      "cell_type": "code",
      "metadata": {
        "colab": {
          "base_uri": "https://localhost:8080/"
        },
        "id": "qx3jZ7WVJog4",
        "outputId": "f4f45bb3-38f0-4296-d4f2-7685a2f2d193"
      },
      "source": [
        "df['Category'].value_counts()"
      ],
      "execution_count": null,
      "outputs": [
        {
          "output_type": "execute_result",
          "data": {
            "text/plain": [
              "Developer                279\n",
              "Non-IT                   240\n",
              "Testing                  141\n",
              "Technical Maintenance    119\n",
              "Database                 115\n",
              "Data Science              68\n",
              "Name: Category, dtype: int64"
            ]
          },
          "metadata": {
            "tags": []
          },
          "execution_count": 14
        }
      ]
    },
    {
      "cell_type": "code",
      "metadata": {
        "id": "xHwaj6bcU74c"
      },
      "source": [
        "df.drop('Resume',axis=1,inplace=True)"
      ],
      "execution_count": null,
      "outputs": []
    },
    {
      "cell_type": "code",
      "metadata": {
        "id": "f6QBw9BkVef5"
      },
      "source": [
        "Category = {'Developer':0,'Non-IT':1,'Testing':2,'Technical Maintenance':3,'Database':4,'Data Science':5 }"
      ],
      "execution_count": null,
      "outputs": []
    },
    {
      "cell_type": "code",
      "metadata": {
        "id": "TdtC2EzoWaF1"
      },
      "source": [
        "df['Category'] = df['Category'].map(Category)"
      ],
      "execution_count": null,
      "outputs": []
    },
    {
      "cell_type": "code",
      "metadata": {
        "colab": {
          "base_uri": "https://localhost:8080/",
          "height": 203
        },
        "id": "n4Z_eHTVWiwy",
        "outputId": "eaf13833-920f-49d6-8555-1472055c2700"
      },
      "source": [
        "df.head()"
      ],
      "execution_count": null,
      "outputs": [
        {
          "output_type": "execute_result",
          "data": {
            "text/html": [
              "<div>\n",
              "<style scoped>\n",
              "    .dataframe tbody tr th:only-of-type {\n",
              "        vertical-align: middle;\n",
              "    }\n",
              "\n",
              "    .dataframe tbody tr th {\n",
              "        vertical-align: top;\n",
              "    }\n",
              "\n",
              "    .dataframe thead th {\n",
              "        text-align: right;\n",
              "    }\n",
              "</style>\n",
              "<table border=\"1\" class=\"dataframe\">\n",
              "  <thead>\n",
              "    <tr style=\"text-align: right;\">\n",
              "      <th></th>\n",
              "      <th>Category</th>\n",
              "      <th>cleaned_resume</th>\n",
              "    </tr>\n",
              "  </thead>\n",
              "  <tbody>\n",
              "    <tr>\n",
              "      <th>0</th>\n",
              "      <td>5</td>\n",
              "      <td>skills programming languages python pandas num...</td>\n",
              "    </tr>\n",
              "    <tr>\n",
              "      <th>1</th>\n",
              "      <td>5</td>\n",
              "      <td>education details may may b e uit rgpv data sc...</td>\n",
              "    </tr>\n",
              "    <tr>\n",
              "      <th>2</th>\n",
              "      <td>5</td>\n",
              "      <td>areas interest deep learning control system de...</td>\n",
              "    </tr>\n",
              "    <tr>\n",
              "      <th>3</th>\n",
              "      <td>5</td>\n",
              "      <td>skills r python sap hana tableau sap hana sql ...</td>\n",
              "    </tr>\n",
              "    <tr>\n",
              "      <th>4</th>\n",
              "      <td>5</td>\n",
              "      <td>education details mca ymcaust faridabad haryan...</td>\n",
              "    </tr>\n",
              "  </tbody>\n",
              "</table>\n",
              "</div>"
            ],
            "text/plain": [
              "   Category                                     cleaned_resume\n",
              "0         5  skills programming languages python pandas num...\n",
              "1         5  education details may may b e uit rgpv data sc...\n",
              "2         5  areas interest deep learning control system de...\n",
              "3         5  skills r python sap hana tableau sap hana sql ...\n",
              "4         5  education details mca ymcaust faridabad haryan..."
            ]
          },
          "metadata": {
            "tags": []
          },
          "execution_count": 18
        }
      ]
    },
    {
      "cell_type": "code",
      "metadata": {
        "id": "yXRWr204jvca"
      },
      "source": [
        "x = df.drop('Category',axis=1)"
      ],
      "execution_count": null,
      "outputs": []
    },
    {
      "cell_type": "code",
      "metadata": {
        "colab": {
          "base_uri": "https://localhost:8080/",
          "height": 417
        },
        "id": "mwxpSfffkei1",
        "outputId": "52adb9f7-b1fb-49ea-ff4b-d6fc88cb0d46"
      },
      "source": [
        "x"
      ],
      "execution_count": null,
      "outputs": [
        {
          "output_type": "execute_result",
          "data": {
            "text/html": [
              "<div>\n",
              "<style scoped>\n",
              "    .dataframe tbody tr th:only-of-type {\n",
              "        vertical-align: middle;\n",
              "    }\n",
              "\n",
              "    .dataframe tbody tr th {\n",
              "        vertical-align: top;\n",
              "    }\n",
              "\n",
              "    .dataframe thead th {\n",
              "        text-align: right;\n",
              "    }\n",
              "</style>\n",
              "<table border=\"1\" class=\"dataframe\">\n",
              "  <thead>\n",
              "    <tr style=\"text-align: right;\">\n",
              "      <th></th>\n",
              "      <th>cleaned_resume</th>\n",
              "    </tr>\n",
              "  </thead>\n",
              "  <tbody>\n",
              "    <tr>\n",
              "      <th>0</th>\n",
              "      <td>skills programming languages python pandas num...</td>\n",
              "    </tr>\n",
              "    <tr>\n",
              "      <th>1</th>\n",
              "      <td>education details may may b e uit rgpv data sc...</td>\n",
              "    </tr>\n",
              "    <tr>\n",
              "      <th>2</th>\n",
              "      <td>areas interest deep learning control system de...</td>\n",
              "    </tr>\n",
              "    <tr>\n",
              "      <th>3</th>\n",
              "      <td>skills r python sap hana tableau sap hana sql ...</td>\n",
              "    </tr>\n",
              "    <tr>\n",
              "      <th>4</th>\n",
              "      <td>education details mca ymcaust faridabad haryan...</td>\n",
              "    </tr>\n",
              "    <tr>\n",
              "      <th>...</th>\n",
              "      <td>...</td>\n",
              "    </tr>\n",
              "    <tr>\n",
              "      <th>957</th>\n",
              "      <td>computer skills proficient ms office word basi...</td>\n",
              "    </tr>\n",
              "    <tr>\n",
              "      <th>958</th>\n",
              "      <td>willingness ept challenges positive thinking g...</td>\n",
              "    </tr>\n",
              "    <tr>\n",
              "      <th>959</th>\n",
              "      <td>personal skills quick learner eagerness learn ...</td>\n",
              "    </tr>\n",
              "    <tr>\n",
              "      <th>960</th>\n",
              "      <td>computer skills software knowledge ms power po...</td>\n",
              "    </tr>\n",
              "    <tr>\n",
              "      <th>961</th>\n",
              "      <td>skill set os windows xp database mysql sql ser...</td>\n",
              "    </tr>\n",
              "  </tbody>\n",
              "</table>\n",
              "<p>962 rows × 1 columns</p>\n",
              "</div>"
            ],
            "text/plain": [
              "                                        cleaned_resume\n",
              "0    skills programming languages python pandas num...\n",
              "1    education details may may b e uit rgpv data sc...\n",
              "2    areas interest deep learning control system de...\n",
              "3    skills r python sap hana tableau sap hana sql ...\n",
              "4    education details mca ymcaust faridabad haryan...\n",
              "..                                                 ...\n",
              "957  computer skills proficient ms office word basi...\n",
              "958  willingness ept challenges positive thinking g...\n",
              "959  personal skills quick learner eagerness learn ...\n",
              "960  computer skills software knowledge ms power po...\n",
              "961  skill set os windows xp database mysql sql ser...\n",
              "\n",
              "[962 rows x 1 columns]"
            ]
          },
          "metadata": {
            "tags": []
          },
          "execution_count": 20
        }
      ]
    },
    {
      "cell_type": "code",
      "metadata": {
        "id": "i9DanNeZjvfR"
      },
      "source": [
        "y = df[['Category']]"
      ],
      "execution_count": null,
      "outputs": []
    },
    {
      "cell_type": "code",
      "metadata": {
        "colab": {
          "base_uri": "https://localhost:8080/",
          "height": 417
        },
        "id": "Z2_EcPwGkPnC",
        "outputId": "6491bb52-a2b0-497a-87f4-7fd10684e146"
      },
      "source": [
        "y"
      ],
      "execution_count": null,
      "outputs": [
        {
          "output_type": "execute_result",
          "data": {
            "text/html": [
              "<div>\n",
              "<style scoped>\n",
              "    .dataframe tbody tr th:only-of-type {\n",
              "        vertical-align: middle;\n",
              "    }\n",
              "\n",
              "    .dataframe tbody tr th {\n",
              "        vertical-align: top;\n",
              "    }\n",
              "\n",
              "    .dataframe thead th {\n",
              "        text-align: right;\n",
              "    }\n",
              "</style>\n",
              "<table border=\"1\" class=\"dataframe\">\n",
              "  <thead>\n",
              "    <tr style=\"text-align: right;\">\n",
              "      <th></th>\n",
              "      <th>Category</th>\n",
              "    </tr>\n",
              "  </thead>\n",
              "  <tbody>\n",
              "    <tr>\n",
              "      <th>0</th>\n",
              "      <td>5</td>\n",
              "    </tr>\n",
              "    <tr>\n",
              "      <th>1</th>\n",
              "      <td>5</td>\n",
              "    </tr>\n",
              "    <tr>\n",
              "      <th>2</th>\n",
              "      <td>5</td>\n",
              "    </tr>\n",
              "    <tr>\n",
              "      <th>3</th>\n",
              "      <td>5</td>\n",
              "    </tr>\n",
              "    <tr>\n",
              "      <th>4</th>\n",
              "      <td>5</td>\n",
              "    </tr>\n",
              "    <tr>\n",
              "      <th>...</th>\n",
              "      <td>...</td>\n",
              "    </tr>\n",
              "    <tr>\n",
              "      <th>957</th>\n",
              "      <td>2</td>\n",
              "    </tr>\n",
              "    <tr>\n",
              "      <th>958</th>\n",
              "      <td>2</td>\n",
              "    </tr>\n",
              "    <tr>\n",
              "      <th>959</th>\n",
              "      <td>2</td>\n",
              "    </tr>\n",
              "    <tr>\n",
              "      <th>960</th>\n",
              "      <td>2</td>\n",
              "    </tr>\n",
              "    <tr>\n",
              "      <th>961</th>\n",
              "      <td>2</td>\n",
              "    </tr>\n",
              "  </tbody>\n",
              "</table>\n",
              "<p>962 rows × 1 columns</p>\n",
              "</div>"
            ],
            "text/plain": [
              "     Category\n",
              "0           5\n",
              "1           5\n",
              "2           5\n",
              "3           5\n",
              "4           5\n",
              "..        ...\n",
              "957         2\n",
              "958         2\n",
              "959         2\n",
              "960         2\n",
              "961         2\n",
              "\n",
              "[962 rows x 1 columns]"
            ]
          },
          "metadata": {
            "tags": []
          },
          "execution_count": 22
        }
      ]
    },
    {
      "cell_type": "code",
      "metadata": {
        "id": "FkIQFlOsWk85"
      },
      "source": [
        "from sklearn.model_selection import train_test_split"
      ],
      "execution_count": null,
      "outputs": []
    },
    {
      "cell_type": "code",
      "metadata": {
        "id": "0Q0iUNPTjYrw"
      },
      "source": [
        "x_train,x_test,y_train,y_test = train_test_split(x,y,random_state=100,test_size=0.3)"
      ],
      "execution_count": null,
      "outputs": []
    },
    {
      "cell_type": "code",
      "metadata": {
        "colab": {
          "base_uri": "https://localhost:8080/"
        },
        "id": "vabUTAdUkPr6",
        "outputId": "2f221150-bd95-4d00-99c8-f0f1f475f662"
      },
      "source": [
        "x_train.shape"
      ],
      "execution_count": null,
      "outputs": [
        {
          "output_type": "execute_result",
          "data": {
            "text/plain": [
              "(673, 1)"
            ]
          },
          "metadata": {
            "tags": []
          },
          "execution_count": 25
        }
      ]
    },
    {
      "cell_type": "code",
      "metadata": {
        "colab": {
          "base_uri": "https://localhost:8080/"
        },
        "id": "mizBYtANkPuz",
        "outputId": "617be8ec-b5b3-4549-ca47-b3c77e4b84d1"
      },
      "source": [
        "x_test.shape"
      ],
      "execution_count": null,
      "outputs": [
        {
          "output_type": "execute_result",
          "data": {
            "text/plain": [
              "(289, 1)"
            ]
          },
          "metadata": {
            "tags": []
          },
          "execution_count": 26
        }
      ]
    },
    {
      "cell_type": "code",
      "metadata": {
        "id": "buoVwLK9sZhH"
      },
      "source": [
        "tokenizer = Tokenizer(oov_token='<unk>')"
      ],
      "execution_count": null,
      "outputs": []
    },
    {
      "cell_type": "code",
      "metadata": {
        "id": "rBAcHi_KtmIk"
      },
      "source": [
        "tokenizer.fit_on_texts(x_train['cleaned_resume'])"
      ],
      "execution_count": null,
      "outputs": []
    },
    {
      "cell_type": "code",
      "metadata": {
        "id": "lSdkweGwtsNF"
      },
      "source": [
        "word_index = tokenizer.word_index"
      ],
      "execution_count": null,
      "outputs": []
    },
    {
      "cell_type": "code",
      "metadata": {
        "colab": {
          "base_uri": "https://localhost:8080/"
        },
        "id": "Ibuui-IAtxRL",
        "outputId": "8794dd68-23f7-4b01-b59b-0f76f981b7fb"
      },
      "source": [
        "len(word_index)"
      ],
      "execution_count": null,
      "outputs": [
        {
          "output_type": "execute_result",
          "data": {
            "text/plain": [
              "7120"
            ]
          },
          "metadata": {
            "tags": []
          },
          "execution_count": 30
        }
      ]
    },
    {
      "cell_type": "code",
      "metadata": {
        "id": "HlSLaLkw3ZmM"
      },
      "source": [
        "vocab_size = len(word_index)"
      ],
      "execution_count": null,
      "outputs": []
    },
    {
      "cell_type": "code",
      "metadata": {
        "colab": {
          "base_uri": "https://localhost:8080/"
        },
        "id": "iAvFMR5Xt0F0",
        "outputId": "e7e55234-b67d-4f9b-fe5e-1c435dfdc6ed"
      },
      "source": [
        "word_index"
      ],
      "execution_count": null,
      "outputs": [
        {
          "output_type": "execute_result",
          "data": {
            "text/plain": [
              "{'<unk>': 1,\n",
              " 'exprience': 2,\n",
              " 'company': 3,\n",
              " 'project': 4,\n",
              " 'months': 5,\n",
              " 'description': 6,\n",
              " 'details': 7,\n",
              " 'data': 8,\n",
              " 'management': 9,\n",
              " 'team': 10,\n",
              " 'system': 11,\n",
              " 'maharashtra': 12,\n",
              " 'database': 13,\n",
              " 'year': 14,\n",
              " 'testing': 15,\n",
              " 'using': 16,\n",
              " 'ltd': 17,\n",
              " 'development': 18,\n",
              " 'sql': 19,\n",
              " 'business': 20,\n",
              " 'client': 21,\n",
              " 'java': 22,\n",
              " 'skill': 23,\n",
              " 'less': 24,\n",
              " 'test': 25,\n",
              " 'developer': 26,\n",
              " 'engineering': 27,\n",
              " 'january': 28,\n",
              " 'application': 29,\n",
              " 'work': 30,\n",
              " 'c': 31,\n",
              " 'pune': 32,\n",
              " 'services': 33,\n",
              " 'skills': 34,\n",
              " 'education': 35,\n",
              " 'pvt': 36,\n",
              " 'software': 37,\n",
              " 'server': 38,\n",
              " 'sales': 39,\n",
              " 'responsibilities': 40,\n",
              " 'reports': 41,\n",
              " 'operations': 42,\n",
              " 'process': 43,\n",
              " 'technologies': 44,\n",
              " 'customer': 45,\n",
              " 'technical': 46,\n",
              " 'working': 47,\n",
              " 'monthscompany': 48,\n",
              " 'university': 49,\n",
              " 'python': 50,\n",
              " 'design': 51,\n",
              " 'requirements': 52,\n",
              " 'india': 53,\n",
              " 'environment': 54,\n",
              " 'various': 55,\n",
              " 'b': 56,\n",
              " 'e': 57,\n",
              " 'web': 58,\n",
              " 'college': 59,\n",
              " 'engineer': 60,\n",
              " 'quality': 61,\n",
              " 'like': 62,\n",
              " 'worked': 63,\n",
              " 'issues': 64,\n",
              " 'time': 65,\n",
              " 'knowledge': 66,\n",
              " 'per': 67,\n",
              " 'manager': 68,\n",
              " 'activities': 69,\n",
              " 'mysql': 70,\n",
              " 'used': 71,\n",
              " 'support': 72,\n",
              " 'role': 73,\n",
              " 'technology': 74,\n",
              " 'windows': 75,\n",
              " 'based': 76,\n",
              " 'oracle': 77,\n",
              " 'automation': 78,\n",
              " 'training': 79,\n",
              " 'projects': 80,\n",
              " 'computer': 81,\n",
              " 'information': 82,\n",
              " 'systems': 83,\n",
              " 'html': 84,\n",
              " 'etc': 85,\n",
              " 'mumbai': 86,\n",
              " 'experience': 87,\n",
              " 'new': 88,\n",
              " 'network': 89,\n",
              " 'different': 90,\n",
              " 'job': 91,\n",
              " 'managing': 92,\n",
              " 'performance': 93,\n",
              " 'monitoring': 94,\n",
              " 'end': 95,\n",
              " 'ms': 96,\n",
              " 'maintenance': 97,\n",
              " 'science': 98,\n",
              " 'handling': 99,\n",
              " 'tools': 100,\n",
              " 'involved': 101,\n",
              " 'requirement': 102,\n",
              " 'user': 103,\n",
              " 'hadoop': 104,\n",
              " 'maintaining': 105,\n",
              " 'control': 106,\n",
              " 'completed': 107,\n",
              " 'ensure': 108,\n",
              " 'electrical': 109,\n",
              " 'analysis': 110,\n",
              " 'service': 111,\n",
              " 'related': 112,\n",
              " 'developing': 113,\n",
              " 'creating': 114,\n",
              " 'ensuring': 115,\n",
              " 'developed': 116,\n",
              " 'servers': 117,\n",
              " 'css': 118,\n",
              " 'report': 119,\n",
              " 'good': 120,\n",
              " 'users': 121,\n",
              " 'sap': 122,\n",
              " 'responsible': 123,\n",
              " 'office': 124,\n",
              " 'learning': 125,\n",
              " 'security': 126,\n",
              " 'required': 127,\n",
              " 'power': 128,\n",
              " 'r': 129,\n",
              " 'internal': 130,\n",
              " 'configuration': 131,\n",
              " 'clients': 132,\n",
              " 'build': 133,\n",
              " 'customers': 134,\n",
              " 'hive': 135,\n",
              " 'javascript': 136,\n",
              " 'etl': 137,\n",
              " 'machine': 138,\n",
              " 'school': 139,\n",
              " 'documentation': 140,\n",
              " 'linux': 141,\n",
              " 'product': 142,\n",
              " 'production': 143,\n",
              " 'key': 144,\n",
              " 'roles': 145,\n",
              " 'reporting': 146,\n",
              " 'jquery': 147,\n",
              " 'provide': 148,\n",
              " 'solutions': 149,\n",
              " 'processes': 150,\n",
              " 'check': 151,\n",
              " 'g': 152,\n",
              " 'meetings': 153,\n",
              " 'queries': 154,\n",
              " 'maintain': 155,\n",
              " 'operating': 156,\n",
              " 'also': 157,\n",
              " 'shell': 158,\n",
              " 'level': 159,\n",
              " 'su': 160,\n",
              " 'review': 161,\n",
              " 'created': 162,\n",
              " 'daily': 163,\n",
              " 'document': 164,\n",
              " 'scripts': 165,\n",
              " 'june': 166,\n",
              " 'applications': 167,\n",
              " 'state': 168,\n",
              " 'high': 169,\n",
              " 'well': 170,\n",
              " 'communication': 171,\n",
              " 'bank': 172,\n",
              " 'providing': 173,\n",
              " 'site': 174,\n",
              " 'delivery': 175,\n",
              " 'plan': 176,\n",
              " 'timely': 177,\n",
              " 'name': 178,\n",
              " 'platform': 179,\n",
              " 'planning': 180,\n",
              " 'preparing': 181,\n",
              " 'core': 182,\n",
              " 'lead': 183,\n",
              " 'activity': 184,\n",
              " 'databases': 185,\n",
              " 'net': 186,\n",
              " 'jobs': 187,\n",
              " 'responsibility': 188,\n",
              " 'develop': 189,\n",
              " 'administration': 190,\n",
              " 'manage': 191,\n",
              " 'members': 192,\n",
              " 'solution': 193,\n",
              " 'board': 194,\n",
              " 'multiple': 195,\n",
              " 'website': 196,\n",
              " 'understanding': 197,\n",
              " 'diploma': 198,\n",
              " 'co': 199,\n",
              " 'preparation': 200,\n",
              " 'backup': 201,\n",
              " 'documents': 202,\n",
              " 'unit': 203,\n",
              " 'limited': 204,\n",
              " 'programming': 205,\n",
              " 'cisco': 206,\n",
              " 'order': 207,\n",
              " 'global': 208,\n",
              " 'functional': 209,\n",
              " 'informatica': 210,\n",
              " 'products': 211,\n",
              " 'international': 212,\n",
              " 'weekly': 213,\n",
              " 'performed': 214,\n",
              " 'designed': 215,\n",
              " 'create': 216,\n",
              " 'nagpur': 217,\n",
              " 'within': 218,\n",
              " 'scripting': 219,\n",
              " 'deployment': 220,\n",
              " 'languages': 221,\n",
              " 'billing': 222,\n",
              " 'health': 223,\n",
              " 'honeywell': 224,\n",
              " 'implementation': 225,\n",
              " 'institute': 226,\n",
              " 'monitor': 227,\n",
              " 'blockchain': 228,\n",
              " 'analytics': 229,\n",
              " 'cases': 230,\n",
              " 'implemented': 231,\n",
              " 'marketing': 232,\n",
              " 'fitness': 233,\n",
              " 'bachelor': 234,\n",
              " 'one': 235,\n",
              " 'senior': 236,\n",
              " 'ability': 237,\n",
              " 'type': 238,\n",
              " 'complete': 239,\n",
              " 'fat': 240,\n",
              " 'excel': 241,\n",
              " 'vendor': 242,\n",
              " 'may': 243,\n",
              " 'payment': 244,\n",
              " 'commerce': 245,\n",
              " 'plans': 246,\n",
              " 'microsoft': 247,\n",
              " 'integration': 248,\n",
              " 'essfully': 249,\n",
              " 'ges': 250,\n",
              " 'online': 251,\n",
              " 'monthly': 252,\n",
              " 'monitored': 253,\n",
              " 'ajax': 254,\n",
              " 'files': 255,\n",
              " 'size': 256,\n",
              " 'code': 257,\n",
              " 'risk': 258,\n",
              " 'installation': 259,\n",
              " 'hana': 260,\n",
              " 'analyzing': 261,\n",
              " 'teams': 262,\n",
              " 'scope': 263,\n",
              " 'tool': 264,\n",
              " 'devops': 265,\n",
              " 'electronics': 266,\n",
              " 'framework': 267,\n",
              " 'unix': 268,\n",
              " 'change': 269,\n",
              " 'schedule': 270,\n",
              " 'plc': 271,\n",
              " 'program': 272,\n",
              " 'sla': 273,\n",
              " 'including': 274,\n",
              " 'tasks': 275,\n",
              " 'ess': 276,\n",
              " 'writing': 277,\n",
              " 'identify': 278,\n",
              " 'script': 279,\n",
              " 'across': 280,\n",
              " 'understand': 281,\n",
              " 'group': 282,\n",
              " 'date': 283,\n",
              " 'procedures': 284,\n",
              " 'troubleshooting': 285,\n",
              " 'title': 286,\n",
              " 'tech': 287,\n",
              " 'inventory': 288,\n",
              " 'vendors': 289,\n",
              " 'bootstrap': 290,\n",
              " 'basis': 291,\n",
              " 'basic': 292,\n",
              " 'trust': 293,\n",
              " 'employee': 294,\n",
              " 'pre': 295,\n",
              " 'building': 296,\n",
              " 'creation': 297,\n",
              " 'made': 298,\n",
              " 'perform': 299,\n",
              " 'cloud': 300,\n",
              " 'staff': 301,\n",
              " 'standard': 302,\n",
              " 'schedules': 303,\n",
              " 'distribution': 304,\n",
              " 'manual': 305,\n",
              " 'tables': 306,\n",
              " 'track': 307,\n",
              " 'make': 308,\n",
              " 'sqoop': 309,\n",
              " 'banking': 310,\n",
              " 'inspection': 311,\n",
              " 'qa': 312,\n",
              " 'day': 313,\n",
              " 'progress': 314,\n",
              " 'korea': 315,\n",
              " 'db': 316,\n",
              " 'hdfs': 317,\n",
              " 'personal': 318,\n",
              " 'spring': 319,\n",
              " 'panel': 320,\n",
              " 'k': 321,\n",
              " 'p': 322,\n",
              " 'provided': 323,\n",
              " 'years': 324,\n",
              " 'cluster': 325,\n",
              " 'handled': 326,\n",
              " 'center': 327,\n",
              " 'existing': 328,\n",
              " 'civil': 329,\n",
              " 'till': 330,\n",
              " 'api': 331,\n",
              " 'git': 332,\n",
              " 'portal': 333,\n",
              " 'studio': 334,\n",
              " 'processing': 335,\n",
              " 'dr': 336,\n",
              " 'point': 337,\n",
              " 'duration': 338,\n",
              " 'language': 339,\n",
              " 'proposal': 340,\n",
              " 'purchase': 341,\n",
              " 'source': 342,\n",
              " 'talend': 343,\n",
              " 'people': 344,\n",
              " 'insurance': 345,\n",
              " 'xp': 346,\n",
              " 'drawing': 347,\n",
              " 'organization': 348,\n",
              " 'attending': 349,\n",
              " 'tracking': 350,\n",
              " 'mvc': 351,\n",
              " 'erp': 352,\n",
              " 'resource': 353,\n",
              " 'transformer': 354,\n",
              " 'financial': 355,\n",
              " 'execution': 356,\n",
              " 'effective': 357,\n",
              " 'designing': 358,\n",
              " 'tata': 359,\n",
              " 'operational': 360,\n",
              " 'mechanical': 361,\n",
              " 'status': 362,\n",
              " 'panels': 363,\n",
              " 'hr': 364,\n",
              " 'hibernate': 365,\n",
              " 'changes': 366,\n",
              " 'ssc': 367,\n",
              " 'android': 368,\n",
              " 'research': 369,\n",
              " 'administrator': 370,\n",
              " 'ethereum': 371,\n",
              " 'secondary': 372,\n",
              " 'stakeholders': 373,\n",
              " 'release': 374,\n",
              " 'resolve': 375,\n",
              " 'part': 376,\n",
              " 'infrastructure': 377,\n",
              " 'participated': 378,\n",
              " 'private': 379,\n",
              " 'use': 380,\n",
              " 'area': 381,\n",
              " 'j': 382,\n",
              " 'standards': 383,\n",
              " 'spark': 384,\n",
              " 'coordinate': 385,\n",
              " 'estimation': 386,\n",
              " 'cost': 387,\n",
              " 'commercial': 388,\n",
              " 'entire': 389,\n",
              " 'department': 390,\n",
              " 'corporate': 391,\n",
              " 'jsp': 392,\n",
              " 'flow': 393,\n",
              " 'case': 394,\n",
              " 'com': 395,\n",
              " 'php': 396,\n",
              " 'conducted': 397,\n",
              " 'issue': 398,\n",
              " 'equipment': 399,\n",
              " 'networking': 400,\n",
              " 'js': 401,\n",
              " 'analyst': 402,\n",
              " 'analyze': 403,\n",
              " 'warehouse': 404,\n",
              " 'audit': 405,\n",
              " 'help': 406,\n",
              " 'profile': 407,\n",
              " 'generate': 408,\n",
              " 'reduce': 409,\n",
              " 'problem': 410,\n",
              " 'calls': 411,\n",
              " 'set': 412,\n",
              " 'jenkins': 413,\n",
              " 'file': 414,\n",
              " 'leader': 415,\n",
              " 'graphics': 416,\n",
              " 'v': 417,\n",
              " 'asp': 418,\n",
              " 'text': 419,\n",
              " 'regression': 420,\n",
              " 'leading': 421,\n",
              " 'enterprise': 422,\n",
              " 'programs': 423,\n",
              " 'architecture': 424,\n",
              " 'ui': 425,\n",
              " 'modules': 426,\n",
              " 'done': 427,\n",
              " 'ounts': 428,\n",
              " 'resources': 429,\n",
              " 'photoshop': 430,\n",
              " 'target': 431,\n",
              " 'automated': 432,\n",
              " 'implementing': 433,\n",
              " 'compliance': 434,\n",
              " 'replication': 435,\n",
              " 'bo': 436,\n",
              " 'contract': 437,\n",
              " 'industry': 438,\n",
              " 'aws': 439,\n",
              " 'orders': 440,\n",
              " 'hpm': 441,\n",
              " 'manufacturing': 442,\n",
              " 'position': 443,\n",
              " 'credit': 444,\n",
              " 'hsc': 445,\n",
              " 'migration': 446,\n",
              " 'coordinating': 447,\n",
              " 'identifying': 448,\n",
              " 'tests': 449,\n",
              " 'material': 450,\n",
              " 'model': 451,\n",
              " 'industrial': 452,\n",
              " 'wipro': 453,\n",
              " 'consultancy': 454,\n",
              " 'professional': 455,\n",
              " 'developers': 456,\n",
              " 'nashik': 457,\n",
              " 'interface': 458,\n",
              " 'prepare': 459,\n",
              " 'controls': 460,\n",
              " 'meeting': 461,\n",
              " 'smart': 462,\n",
              " 'excellent': 463,\n",
              " 'agile': 464,\n",
              " 'loan': 465,\n",
              " 'log': 466,\n",
              " 'overall': 467,\n",
              " 'expertise': 468,\n",
              " 'troubleshoot': 469,\n",
              " 'following': 470,\n",
              " 'mis': 471,\n",
              " 'stock': 472,\n",
              " 'present': 473,\n",
              " 'word': 474,\n",
              " 'employees': 475,\n",
              " 'life': 476,\n",
              " 'nendrasys': 477,\n",
              " 'multi': 478,\n",
              " 'operation': 479,\n",
              " 'back': 480,\n",
              " 'hardware': 481,\n",
              " 'load': 482,\n",
              " 'gathering': 483,\n",
              " 'line': 484,\n",
              " 'problems': 485,\n",
              " 'consultant': 486,\n",
              " 'efficiency': 487,\n",
              " 'h': 488,\n",
              " 'bugs': 489,\n",
              " 'critical': 490,\n",
              " 'policies': 491,\n",
              " 'thai': 492,\n",
              " 'solving': 493,\n",
              " 'best': 494,\n",
              " 'strong': 495,\n",
              " 'arts': 496,\n",
              " 'ee': 497,\n",
              " 'mentioned': 498,\n",
              " 'qatar': 499,\n",
              " 'visual': 500,\n",
              " 'participate': 501,\n",
              " 'components': 502,\n",
              " 'requests': 503,\n",
              " 'designer': 504,\n",
              " 'loading': 505,\n",
              " 'complex': 506,\n",
              " 'master': 507,\n",
              " 'angular': 508,\n",
              " 'base': 509,\n",
              " 'taking': 510,\n",
              " 'smooth': 511,\n",
              " 'revenue': 512,\n",
              " 'pmo': 513,\n",
              " 'plant': 514,\n",
              " 'external': 515,\n",
              " 'shipping': 516,\n",
              " 'models': 517,\n",
              " 'along': 518,\n",
              " 'crm': 519,\n",
              " 'july': 520,\n",
              " 'days': 521,\n",
              " 'given': 522,\n",
              " 'targets': 523,\n",
              " 'devices': 524,\n",
              " 'suppliers': 525,\n",
              " 'version': 526,\n",
              " 'mappings': 527,\n",
              " 'pig': 528,\n",
              " 'maven': 529,\n",
              " 'construction': 530,\n",
              " 'english': 531,\n",
              " 'areas': 532,\n",
              " 'th': 533,\n",
              " 'backups': 534,\n",
              " 'includes': 535,\n",
              " 'comments': 536,\n",
              " 'engineers': 537,\n",
              " 'os': 538,\n",
              " 'government': 539,\n",
              " 'freight': 540,\n",
              " 'managers': 541,\n",
              " 'layer': 542,\n",
              " 'methodology': 543,\n",
              " 'environments': 544,\n",
              " 'achieve': 545,\n",
              " 'resolving': 546,\n",
              " 'certificate': 547,\n",
              " 'result': 548,\n",
              " 'f': 549,\n",
              " 'deployed': 550,\n",
              " 'checks': 551,\n",
              " 'marshalling': 552,\n",
              " 'wiring': 553,\n",
              " 'side': 554,\n",
              " 'provides': 555,\n",
              " 'uat': 556,\n",
              " 'continuous': 557,\n",
              " 'configuring': 558,\n",
              " 'setup': 559,\n",
              " 'maintained': 560,\n",
              " 'shipments': 561,\n",
              " 'post': 562,\n",
              " 'events': 563,\n",
              " 'reviews': 564,\n",
              " 'field': 565,\n",
              " 'risks': 566,\n",
              " 'leadership': 567,\n",
              " 'apache': 568,\n",
              " 'learn': 569,\n",
              " 'improve': 570,\n",
              " 'follow': 571,\n",
              " 'getting': 572,\n",
              " 'logic': 573,\n",
              " 'delivered': 574,\n",
              " 'supporting': 575,\n",
              " 'deep': 576,\n",
              " 'drawings': 577,\n",
              " 'admin': 578,\n",
              " 'student': 579,\n",
              " 'view': 580,\n",
              " 'specifications': 581,\n",
              " 'specification': 582,\n",
              " 'records': 583,\n",
              " 'opportunities': 584,\n",
              " 'firewall': 585,\n",
              " 'national': 586,\n",
              " 'uk': 587,\n",
              " 'export': 588,\n",
              " 'django': 589,\n",
              " 'map': 590,\n",
              " 'hands': 591,\n",
              " 'polytechnic': 592,\n",
              " 'request': 593,\n",
              " 'take': 594,\n",
              " 'checking': 595,\n",
              " 'potential': 596,\n",
              " 'flat': 597,\n",
              " 'higher': 598,\n",
              " 'proper': 599,\n",
              " 'departments': 600,\n",
              " 'self': 601,\n",
              " 'results': 602,\n",
              " 'shared': 603,\n",
              " 'pm': 604,\n",
              " 'foundation': 605,\n",
              " 'capacity': 606,\n",
              " 'trade': 607,\n",
              " 'relationship': 608,\n",
              " 'conducting': 609,\n",
              " 'running': 610,\n",
              " 'strategies': 611,\n",
              " 'materials': 612,\n",
              " 'servlet': 613,\n",
              " 'sources': 614,\n",
              " 'budget': 615,\n",
              " 'offers': 616,\n",
              " 'discuss': 617,\n",
              " 'le': 618,\n",
              " 'deliverables': 619,\n",
              " 'scheduling': 620,\n",
              " 'public': 621,\n",
              " 'transaction': 622,\n",
              " 'jan': 623,\n",
              " 'usa': 624,\n",
              " 'keeping': 625,\n",
              " 'prepaid': 626,\n",
              " 'rest': 627,\n",
              " 'selenium': 628,\n",
              " 'hbase': 629,\n",
              " 'qtp': 630,\n",
              " 'decision': 631,\n",
              " 'autocad': 632,\n",
              " 'interaction': 633,\n",
              " 'ount': 634,\n",
              " 'world': 635,\n",
              " 'duties': 636,\n",
              " 'resistance': 637,\n",
              " 'analytical': 638,\n",
              " 'views': 639,\n",
              " 'conduct': 640,\n",
              " 'necessary': 641,\n",
              " 'backend': 642,\n",
              " 'mapreduce': 643,\n",
              " 'assembly': 644,\n",
              " 'switches': 645,\n",
              " 'json': 646,\n",
              " 'sessions': 647,\n",
              " 'logs': 648,\n",
              " 'pradesh': 649,\n",
              " 'processed': 650,\n",
              " 'regular': 651,\n",
              " 'mapping': 652,\n",
              " 'big': 653,\n",
              " 'gym': 654,\n",
              " 'investment': 655,\n",
              " 'dev': 656,\n",
              " 'market': 657,\n",
              " 'actively': 658,\n",
              " 'course': 659,\n",
              " 'functions': 660,\n",
              " 'direct': 661,\n",
              " 'workshop': 662,\n",
              " 'sr': 663,\n",
              " 'positive': 664,\n",
              " 'algorithms': 665,\n",
              " 'making': 666,\n",
              " 'x': 667,\n",
              " 'ording': 668,\n",
              " 'stake': 669,\n",
              " 'holders': 670,\n",
              " 'setting': 671,\n",
              " 'dot': 672,\n",
              " 'real': 673,\n",
              " 'supply': 674,\n",
              " 'us': 675,\n",
              " 'goal': 676,\n",
              " 'centre': 677,\n",
              " 'properly': 678,\n",
              " 'qc': 679,\n",
              " 'router': 680,\n",
              " 'firewalls': 681,\n",
              " 'eclipse': 682,\n",
              " 'august': 683,\n",
              " 'assist': 684,\n",
              " 'reviewing': 685,\n",
              " 'cash': 686,\n",
              " 'media': 687,\n",
              " 'query': 688,\n",
              " 'techniques': 689,\n",
              " 'capital': 690,\n",
              " 'cards': 691,\n",
              " 'mongodb': 692,\n",
              " 'active': 693,\n",
              " 'via': 694,\n",
              " 'st': 695,\n",
              " 'appropriate': 696,\n",
              " 'contact': 697,\n",
              " 'station': 698,\n",
              " 'defined': 699,\n",
              " 'executing': 700,\n",
              " 'achieving': 701,\n",
              " 'platforms': 702,\n",
              " 'groups': 703,\n",
              " 'united': 704,\n",
              " 'breaker': 705,\n",
              " 'extract': 706,\n",
              " 'generating': 707,\n",
              " 'availability': 708,\n",
              " 'www': 709,\n",
              " 'upgrade': 710,\n",
              " 'mahindra': 711,\n",
              " 'designation': 712,\n",
              " 'future': 713,\n",
              " 'n': 714,\n",
              " 'onsite': 715,\n",
              " 'motor': 716,\n",
              " 'assistant': 717,\n",
              " 'british': 718,\n",
              " 'presentation': 719,\n",
              " 'bny': 720,\n",
              " 'mellon': 721,\n",
              " 'ftp': 722,\n",
              " 'store': 723,\n",
              " 'dcs': 724,\n",
              " 'structure': 725,\n",
              " 'categories': 726,\n",
              " 'ant': 727,\n",
              " 'bbl': 728,\n",
              " 'tableau': 729,\n",
              " 'single': 730,\n",
              " 'usage': 731,\n",
              " 'nov': 732,\n",
              " 'sent': 733,\n",
              " 'form': 734,\n",
              " 'communicating': 735,\n",
              " 'helping': 736,\n",
              " 'get': 737,\n",
              " 'finance': 738,\n",
              " 'relevant': 739,\n",
              " 'features': 740,\n",
              " 'branches': 741,\n",
              " 'hotel': 742,\n",
              " 'top': 743,\n",
              " 'iit': 744,\n",
              " 'advance': 745,\n",
              " 'bi': 746,\n",
              " 'modern': 747,\n",
              " 'postgresql': 748,\n",
              " 'front': 749,\n",
              " 'pl': 750,\n",
              " 'ad': 751,\n",
              " 'procurement': 752,\n",
              " 'satisfaction': 753,\n",
              " 'nos': 754,\n",
              " 'restore': 755,\n",
              " 'fds': 756,\n",
              " 'go': 757,\n",
              " 'cycle': 758,\n",
              " 'repositories': 759,\n",
              " 'matrix': 760,\n",
              " 'leads': 761,\n",
              " 'call': 762,\n",
              " 'included': 763,\n",
              " 'validate': 764,\n",
              " 'movex': 765,\n",
              " 'transformations': 766,\n",
              " 'calculation': 767,\n",
              " 'local': 768,\n",
              " 'iso': 769,\n",
              " 'chain': 770,\n",
              " 'available': 771,\n",
              " 'paper': 772,\n",
              " 'cross': 773,\n",
              " 'dashboard': 774,\n",
              " 'rules': 775,\n",
              " 'wrote': 776,\n",
              " 'implement': 777,\n",
              " 'card': 778,\n",
              " 'contribution': 779,\n",
              " 'applying': 780,\n",
              " 'aug': 781,\n",
              " 'correct': 782,\n",
              " 'proficient': 783,\n",
              " 'internet': 784,\n",
              " 'powerpoint': 785,\n",
              " 'certified': 786,\n",
              " 'closely': 787,\n",
              " 'essful': 788,\n",
              " 'executive': 789,\n",
              " 'major': 790,\n",
              " 'protection': 791,\n",
              " 'interacting': 792,\n",
              " 'region': 793,\n",
              " 'period': 794,\n",
              " 'intelligence': 795,\n",
              " 'enquiries': 796,\n",
              " 'driven': 797,\n",
              " 'jdbc': 798,\n",
              " 'phule': 799,\n",
              " 'feedback': 800,\n",
              " 'hmi': 801,\n",
              " 'types': 802,\n",
              " 'main': 803,\n",
              " 'domain': 804,\n",
              " 'communications': 805,\n",
              " 'debugging': 806,\n",
              " 'layout': 807,\n",
              " 'completion': 808,\n",
              " 'reconciliation': 809,\n",
              " 'consulting': 810,\n",
              " 'strengths': 811,\n",
              " 'levels': 812,\n",
              " 'transfer': 813,\n",
              " 'controller': 814,\n",
              " 'validation': 815,\n",
              " 'audits': 816,\n",
              " 'air': 817,\n",
              " 'tomcat': 818,\n",
              " 'jr': 819,\n",
              " 'first': 820,\n",
              " 'scala': 821,\n",
              " 'repository': 822,\n",
              " 'directly': 823,\n",
              " 'bond': 824,\n",
              " 'integrated': 825,\n",
              " 'member': 826,\n",
              " 'detailed': 827,\n",
              " 'installing': 828,\n",
              " 'towards': 829,\n",
              " 'cricket': 830,\n",
              " 'healthcare': 831,\n",
              " 'ibm': 832,\n",
              " 'rman': 833,\n",
              " 'sub': 834,\n",
              " 'ubuntu': 835,\n",
              " 'current': 836,\n",
              " 'dubai': 837,\n",
              " 'terms': 838,\n",
              " 'sending': 839,\n",
              " 'synopsis': 840,\n",
              " 'jira': 841,\n",
              " 'businesses': 842,\n",
              " 'safety': 843,\n",
              " 'overseeing': 844,\n",
              " 'costs': 845,\n",
              " 'strategic': 846,\n",
              " 'managed': 847,\n",
              " 'amravati': 848,\n",
              " 'update': 849,\n",
              " 'execute': 850,\n",
              " 'scenarios': 851,\n",
              " 'dashboards': 852,\n",
              " 'emails': 853,\n",
              " 'recovery': 854,\n",
              " 'action': 855,\n",
              " 'assurant': 856,\n",
              " 'u': 857,\n",
              " 'bug': 858,\n",
              " 'bods': 859,\n",
              " 'savitribai': 860,\n",
              " 'final': 861,\n",
              " 'deploy': 862,\n",
              " 'transactions': 863,\n",
              " 'generated': 864,\n",
              " 'meet': 865,\n",
              " 'nlp': 866,\n",
              " 'tuning': 867,\n",
              " 'certification': 868,\n",
              " 'transition': 869,\n",
              " 'strategy': 870,\n",
              " 'pos': 871,\n",
              " 'auto': 872,\n",
              " 'mobile': 873,\n",
              " 'corporation': 874,\n",
              " 'configured': 875,\n",
              " 'range': 876,\n",
              " 'dell': 877,\n",
              " 'errors': 878,\n",
              " 'ge': 879,\n",
              " 'matlab': 880,\n",
              " 'march': 881,\n",
              " 'capabilities': 882,\n",
              " 'oil': 883,\n",
              " 'commissioning': 884,\n",
              " 'drives': 885,\n",
              " 'facility': 886,\n",
              " 'app': 887,\n",
              " 'logistics': 888,\n",
              " 'sure': 889,\n",
              " 'contributions': 890,\n",
              " 'circuit': 891,\n",
              " 'governance': 892,\n",
              " 'specific': 893,\n",
              " 'interpersonal': 894,\n",
              " 'lt': 895,\n",
              " 'every': 896,\n",
              " 'achieved': 897,\n",
              " 'frame': 898,\n",
              " 'page': 899,\n",
              " 'month': 900,\n",
              " 'azure': 901,\n",
              " 'neural': 902,\n",
              " 'basics': 903,\n",
              " 'formats': 904,\n",
              " 'l': 905,\n",
              " 'prepared': 906,\n",
              " 'defects': 907,\n",
              " 'organizing': 908,\n",
              " 'coordination': 909,\n",
              " 'packages': 910,\n",
              " 'special': 911,\n",
              " 'companies': 912,\n",
              " 'enhance': 913,\n",
              " 'efficient': 914,\n",
              " 'quick': 915,\n",
              " 'attitude': 916,\n",
              " 'ir': 917,\n",
              " 'diagrams': 918,\n",
              " 'task': 919,\n",
              " 'floor': 920,\n",
              " 'node': 921,\n",
              " 'run': 922,\n",
              " 'redundant': 923,\n",
              " 'controllers': 924,\n",
              " 'parameters': 925,\n",
              " 'utilization': 926,\n",
              " 'architect': 927,\n",
              " 'bitbucket': 928,\n",
              " 'methodologies': 929,\n",
              " 'relationships': 930,\n",
              " 'updating': 931,\n",
              " 'learner': 932,\n",
              " 'open': 933,\n",
              " 'live': 934,\n",
              " 'written': 935,\n",
              " 'routing': 936,\n",
              " 'metrics': 937,\n",
              " 'send': 938,\n",
              " 'invoices': 939,\n",
              " 'scheduled': 940,\n",
              " 'inputs': 941,\n",
              " 'ups': 942,\n",
              " 'nd': 943,\n",
              " 'utility': 944,\n",
              " 'ways': 945,\n",
              " 'assigned': 946,\n",
              " 'ci': 947,\n",
              " 'merchants': 948,\n",
              " 'industries': 949,\n",
              " 'individual': 950,\n",
              " 'storage': 951,\n",
              " 'handle': 952,\n",
              " 'involves': 953,\n",
              " 'care': 954,\n",
              " 'assisting': 955,\n",
              " 'quarterly': 956,\n",
              " 'generation': 957,\n",
              " 'installed': 958,\n",
              " 'numpy': 959,\n",
              " 'nature': 960,\n",
              " 'resolution': 961,\n",
              " 'legal': 962,\n",
              " 'vista': 963,\n",
              " 'communicated': 964,\n",
              " 'regularly': 965,\n",
              " 'ounting': 966,\n",
              " 'regarding': 967,\n",
              " 'import': 968,\n",
              " 'sloan': 969,\n",
              " 'permissions': 970,\n",
              " 'countries': 971,\n",
              " 'currently': 972,\n",
              " 'large': 973,\n",
              " 'need': 974,\n",
              " 'stipulated': 975,\n",
              " 'cable': 976,\n",
              " 'eptance': 977,\n",
              " 'rdbms': 978,\n",
              " 'supported': 979,\n",
              " 'transformers': 980,\n",
              " 'effectively': 981,\n",
              " 'entities': 982,\n",
              " 'fixing': 983,\n",
              " 'codes': 984,\n",
              " 'mail': 985,\n",
              " 'schematics': 986,\n",
              " 'hard': 987,\n",
              " 'scrum': 988,\n",
              " 'define': 989,\n",
              " 'price': 990,\n",
              " 'hindi': 991,\n",
              " 'growth': 992,\n",
              " 'raised': 993,\n",
              " 'pr': 994,\n",
              " 'challenges': 995,\n",
              " 'module': 996,\n",
              " 'optimization': 997,\n",
              " 'past': 998,\n",
              " 'advanced': 999,\n",
              " 'submission': 1000,\n",
              " ...}"
            ]
          },
          "metadata": {
            "tags": []
          },
          "execution_count": 32
        }
      ]
    },
    {
      "cell_type": "code",
      "metadata": {
        "id": "BWRA_aiat2i-"
      },
      "source": [],
      "execution_count": null,
      "outputs": []
    },
    {
      "cell_type": "code",
      "metadata": {
        "colab": {
          "base_uri": "https://localhost:8080/",
          "height": 137
        },
        "id": "gjY4dxZct8pi",
        "outputId": "dc2f7ca3-c542-463a-ad08-346241dc504f"
      },
      "source": [
        "x_train['cleaned_resume'][0]"
      ],
      "execution_count": null,
      "outputs": [
        {
          "output_type": "execute_result",
          "data": {
            "application/vnd.google.colaboratory.intrinsic+json": {
              "type": "string"
            },
            "text/plain": [
              "'skills programming languages python pandas numpy scipy scikit learn matplotlib sql java javascript jquery machine learning regression svm na bayes knn random forest decision trees boosting techniques cluster analysis word embedding sentiment analysis natural language processing dimensionality reduction topic modelling lda nmf pca neural nets database visualizations mysql sqlserver cassandra hbase elasticsearch js dc js plotly kibana matplotlib ggplot tableau others regular expression html css angular logstash kafka python flask git docker computer vision open cv understanding deep learning education details data science assurance associate data science assurance associate ernst young llp skill details javascript exprience months jquery exprience months python exprience monthscompany details company ernst young llp description fraud investigations dispute services assurance technology assisted review tar technology assisted review assists elerating review process run analytics generate reports core member team helped developing automated review platform tool scratch assisting e discovery domain tool implements predictive coding topic modelling automating reviews resulting reduced labor costs time spent lawyers review understand end end flow solution research development classification models predictive analysis mining information present text data worked analyzing outputs precision monitoring entire tool tar assists predictive coding topic modelling evidence following ey standards developed classifier models order identify red flags fraud related issues tools technologies python scikit learn tfidf word vec doc vec cosine similarity na bayes lda nmf topic modelling vader text blob sentiment analysis matplot lib tableau dashboard reporting multiple data science analytic projects usa clients text analytics motor vehicle customer review data received customer feedback survey data past one year performed sentiment positive negative neutral time series analysis customer comments across categories created heat map terms survey category based frequency words extracted positive negative words across survey categories plotted word cloud created customized tableau dashboards effective reporting visualizations chatbot developed user friendly chatbot one products handle simple questions hours operation reservation options chat bot serves entire product related questions giving overview tool via qa platform also give recommendation responses user question build chain relevant answer intelligence build pipeline questions per user requirement asks relevant recommended questions tools technologies python natural language processing nltk spacy topic modelling sentiment analysis word embedding scikit learn javascript jquery sqlserver information governance organizations make informed decisions information store integrated information governance portfolio synthesizes intelligence across unstructured data sources facilitates action ensure organizations best positioned counter information risk scan data multiple sources formats parse different file formats extract meta data information push results indexing elastic search created customized interactive dashboards using kibana preforming rot analysis data give information data helps identify content either redundant outdated trivial preforming full text search analysis elastic search predefined methods tag pii personally identifiable information social security numbers addresses names etc frequently targeted cyber attacks tools technologies python flask elastic search kibana fraud analytic platform fraud analytics investigative platform review red flag cases fap fraud analytics investigative platform inbuilt case manager suite analytics various erp systems used clients interrogate ounting systems identifying anomalies indicators fraud running advanced analytics tools technologies html javascript sqlserver jquery css bootstrap node js js dc js'"
            ]
          },
          "metadata": {
            "tags": []
          },
          "execution_count": 33
        }
      ]
    },
    {
      "cell_type": "code",
      "metadata": {
        "colab": {
          "base_uri": "https://localhost:8080/",
          "height": 265
        },
        "id": "Gz1qkLp59FMU",
        "outputId": "cef17166-aed5-4230-f070-1c459559dfc2"
      },
      "source": [
        "plt.hist(df['cleaned_resume'].apply(lambda x : len(x.split())),range=(0,200))\n",
        "plt.show()"
      ],
      "execution_count": null,
      "outputs": [
        {
          "output_type": "display_data",
          "data": {
            "image/png": "[encoded data removed]",
            "text/plain": [
              "<Figure size 432x288 with 1 Axes>"
            ]
          },
          "metadata": {
            "tags": [],
            "needs_background": "light"
          }
        }
      ]
    },
    {
      "cell_type": "code",
      "metadata": {
        "id": "Rnxg5Dpq9Uvi"
      },
      "source": [
        "max_len = 190\n",
        "embedding_dimension = 300\n",
        "truncating = 'post'\n",
        "padding_type = 'post'"
      ],
      "execution_count": null,
      "outputs": []
    },
    {
      "cell_type": "code",
      "metadata": {
        "id": "jcRwn11V-B8O"
      },
      "source": [
        "x_train_sequences = tokenizer.texts_to_sequences(x_train['cleaned_resume'])"
      ],
      "execution_count": null,
      "outputs": []
    },
    {
      "cell_type": "code",
      "metadata": {
        "id": "S6AGXsV1-5CA"
      },
      "source": [
        "x_test_sequences = tokenizer.texts_to_sequences(x_test['cleaned_resume'])"
      ],
      "execution_count": null,
      "outputs": []
    },
    {
      "cell_type": "code",
      "metadata": {
        "colab": {
          "base_uri": "https://localhost:8080/"
        },
        "id": "wx_NRcJx-Qcj",
        "outputId": "ba980b22-d85b-4918-d14d-e59fbdfb79e7"
      },
      "source": [
        "print(x_train_sequences[0])"
      ],
      "execution_count": null,
      "outputs": [
        {
          "output_type": "stream",
          "text": [
            "[156, 83, 75, 346, 963, 35, 7, 28, 549, 2056, 217, 12, 217, 49, 28, 56, 549, 2056, 217, 12, 217, 49, 28, 198, 2057, 12, 168, 194, 28, 488, 31, 12, 168, 194, 28, 31, 12, 168, 194, 1094, 496, 3269, 23, 7, 96, 3643, 2, 48, 7, 3, 3270, 1094, 496, 59, 1986, 6, 91, 3269, 3270, 1094, 496, 59, 1986, 732, 4926, 107, 4927, 4928, 4929, 2056, 1741, 91, 3644, 381, 3645, 1065, 570, 66, 87, 565, 3, 6, 87, 1437, 2056, 4930, 347, 4931, 1437, 85, 223, 1173, 4932, 4933]\n"
          ],
          "name": "stdout"
        }
      ]
    },
    {
      "cell_type": "code",
      "metadata": {
        "colab": {
          "base_uri": "https://localhost:8080/"
        },
        "id": "gc9-qCtE-VUw",
        "outputId": "11de25f2-3e64-4b21-e831-374e3a11e7bc"
      },
      "source": [
        "len(x_train_sequences[0])"
      ],
      "execution_count": null,
      "outputs": [
        {
          "output_type": "execute_result",
          "data": {
            "text/plain": [
              "94"
            ]
          },
          "metadata": {
            "tags": []
          },
          "execution_count": 39
        }
      ]
    },
    {
      "cell_type": "code",
      "metadata": {
        "colab": {
          "base_uri": "https://localhost:8080/"
        },
        "id": "xdlzAB7_-k3L",
        "outputId": "f1aac5a6-537b-407a-a931-e8c0396636b1"
      },
      "source": [
        "word_index['pr']"
      ],
      "execution_count": null,
      "outputs": [
        {
          "output_type": "execute_result",
          "data": {
            "text/plain": [
              "994"
            ]
          },
          "metadata": {
            "tags": []
          },
          "execution_count": 40
        }
      ]
    },
    {
      "cell_type": "code",
      "metadata": {
        "id": "ObzF0-rK-rtp"
      },
      "source": [
        "train_padded = pad_sequences(x_train_sequences,maxlen=max_len,padding=padding_type,truncating=truncating)"
      ],
      "execution_count": null,
      "outputs": []
    },
    {
      "cell_type": "code",
      "metadata": {
        "id": "zIBThod3_TDj"
      },
      "source": [
        "test_padded = pad_sequences(x_test_sequences,maxlen=max_len,padding=padding_type,truncating=truncating)"
      ],
      "execution_count": null,
      "outputs": []
    },
    {
      "cell_type": "code",
      "metadata": {
        "colab": {
          "base_uri": "https://localhost:8080/"
        },
        "id": "Mw8HoW2H_kXG",
        "outputId": "63e89443-c8b0-4e86-8210-a6f64272341e"
      },
      "source": [
        "train_padded[0]"
      ],
      "execution_count": null,
      "outputs": [
        {
          "output_type": "execute_result",
          "data": {
            "text/plain": [
              "array([ 156,   83,   75,  346,  963,   35,    7,   28,  549, 2056,  217,\n",
              "         12,  217,   49,   28,   56,  549, 2056,  217,   12,  217,   49,\n",
              "         28,  198, 2057,   12,  168,  194,   28,  488,   31,   12,  168,\n",
              "        194,   28,   31,   12,  168,  194, 1094,  496, 3269,   23,    7,\n",
              "         96, 3643,    2,   48,    7,    3, 3270, 1094,  496,   59, 1986,\n",
              "          6,   91, 3269, 3270, 1094,  496,   59, 1986,  732, 4926,  107,\n",
              "       4927, 4928, 4929, 2056, 1741,   91, 3644,  381, 3645, 1065,  570,\n",
              "         66,   87,  565,    3,    6,   87, 1437, 2056, 4930,  347, 4931,\n",
              "       1437,   85,  223, 1173, 4932, 4933,    0,    0,    0,    0,    0,\n",
              "          0,    0,    0,    0,    0,    0,    0,    0,    0,    0,    0,\n",
              "          0,    0,    0,    0,    0,    0,    0,    0,    0,    0,    0,\n",
              "          0,    0,    0,    0,    0,    0,    0,    0,    0,    0,    0,\n",
              "          0,    0,    0,    0,    0,    0,    0,    0,    0,    0,    0,\n",
              "          0,    0,    0,    0,    0,    0,    0,    0,    0,    0,    0,\n",
              "          0,    0,    0,    0,    0,    0,    0,    0,    0,    0,    0,\n",
              "          0,    0,    0,    0,    0,    0,    0,    0,    0,    0,    0,\n",
              "          0,    0,    0,    0,    0,    0,    0,    0,    0,    0,    0,\n",
              "          0,    0,    0], dtype=int32)"
            ]
          },
          "metadata": {
            "tags": []
          },
          "execution_count": 43
        }
      ]
    },
    {
      "cell_type": "code",
      "metadata": {
        "id": "OILMAzyG_m3w"
      },
      "source": [
        "rev_word_index = dict([(value,key) for (key,value) in word_index.items()])"
      ],
      "execution_count": null,
      "outputs": []
    },
    {
      "cell_type": "code",
      "metadata": {
        "colab": {
          "base_uri": "https://localhost:8080/",
          "height": 35
        },
        "id": "ePEJ3HAGALIW",
        "outputId": "3ac0cb5d-3da5-425c-cd7d-99f49922152e"
      },
      "source": [
        "rev_word_index[994]"
      ],
      "execution_count": null,
      "outputs": [
        {
          "output_type": "execute_result",
          "data": {
            "application/vnd.google.colaboratory.intrinsic+json": {
              "type": "string"
            },
            "text/plain": [
              "'pr'"
            ]
          },
          "metadata": {
            "tags": []
          },
          "execution_count": 45
        }
      ]
    },
    {
      "cell_type": "code",
      "metadata": {
        "id": "koKJWPFkAeQe"
      },
      "source": [
        "def decode_sentence(number):\n",
        "  return ' '.join([rev_word_index.get(i,'?') for i in number])"
      ],
      "execution_count": null,
      "outputs": []
    },
    {
      "cell_type": "code",
      "metadata": {
        "colab": {
          "base_uri": "https://localhost:8080/",
          "height": 136
        },
        "id": "CK7lcwqMAtZk",
        "outputId": "3844802d-3aef-4bc1-dbcb-1bc9bbcb9bf0"
      },
      "source": [
        "decode_sentence(train_padded[0])"
      ],
      "execution_count": null,
      "outputs": [
        {
          "output_type": "execute_result",
          "data": {
            "application/vnd.google.colaboratory.intrinsic+json": {
              "type": "string"
            },
            "text/plain": [
              "'operating systems windows xp vista education details january f painting nagpur maharashtra nagpur university january b f painting nagpur maharashtra nagpur university january diploma art maharashtra state board january h c maharashtra state board january c maharashtra state board fine arts lecturer skill details ms cit exprience monthscompany details company shubhankan fine arts college indore description job lecturer shubhankan fine arts college indore nov artist completed atd bfa mfa painting searching job faculty area comfort place improve knowledge experience field company description experience classes painting rangoli drawing summer classes etc health physical disability orthopedically ? ? ? ? ? ? ? ? ? ? ? ? ? ? ? ? ? ? ? ? ? ? ? ? ? ? ? ? ? ? ? ? ? ? ? ? ? ? ? ? ? ? ? ? ? ? ? ? ? ? ? ? ? ? ? ? ? ? ? ? ? ? ? ? ? ? ? ? ? ? ? ? ? ? ? ? ? ? ? ? ? ? ? ? ? ? ? ? ? ? ? ? ? ? ? ?'"
            ]
          },
          "metadata": {
            "tags": []
          },
          "execution_count": 47
        }
      ]
    },
    {
      "cell_type": "code",
      "metadata": {
        "id": "5Nm8n-lHM-b-"
      },
      "source": [
        "from sklearn.neighbors import KNeighborsClassifier\n"
      ],
      "execution_count": null,
      "outputs": []
    },
    {
      "cell_type": "code",
      "metadata": {
        "id": "R-zttXnDM-kZ"
      },
      "source": [
        "model = KNeighborsClassifier()"
      ],
      "execution_count": null,
      "outputs": []
    },
    {
      "cell_type": "code",
      "metadata": {
        "id": "ZCzmuoAPM-nk",
        "colab": {
          "base_uri": "https://localhost:8080/"
        },
        "outputId": "277ced3b-4b69-40e3-bbde-d6d429e0335f"
      },
      "source": [
        "model.fit(train_padded,y_train)"
      ],
      "execution_count": null,
      "outputs": [
        {
          "output_type": "stream",
          "text": [
            "/usr/local/lib/python3.7/dist-packages/ipykernel_launcher.py:1: DataConversionWarning: A column-vector y was passed when a 1d array was expected. Please change the shape of y to (n_samples, ), for example using ravel().\n",
            "  \"\"\"Entry point for launching an IPython kernel.\n"
          ],
          "name": "stderr"
        },
        {
          "output_type": "execute_result",
          "data": {
            "text/plain": [
              "KNeighborsClassifier(algorithm='auto', leaf_size=30, metric='minkowski',\n",
              "                     metric_params=None, n_jobs=None, n_neighbors=5, p=2,\n",
              "                     weights='uniform')"
            ]
          },
          "metadata": {
            "tags": []
          },
          "execution_count": 50
        }
      ]
    },
    {
      "cell_type": "code",
      "metadata": {
        "id": "ILwAPVisM-p4"
      },
      "source": [
        " y_pred = model.predict(test_padded)"
      ],
      "execution_count": null,
      "outputs": []
    },
    {
      "cell_type": "code",
      "metadata": {
        "id": "DgRffBLrM-sz"
      },
      "source": [
        "from sklearn.metrics import accuracy_score,precision_score,recall_score,classification_report"
      ],
      "execution_count": null,
      "outputs": []
    },
    {
      "cell_type": "code",
      "metadata": {
        "colab": {
          "base_uri": "https://localhost:8080/"
        },
        "id": "7MQ9mJ8Homtq",
        "outputId": "bcac9aa0-ba99-45ac-a9b3-97ed59c52719"
      },
      "source": [
        "accuracy_score(y_pred,y_test)"
      ],
      "execution_count": null,
      "outputs": [
        {
          "output_type": "execute_result",
          "data": {
            "text/plain": [
              "0.8477508650519031"
            ]
          },
          "metadata": {
            "tags": []
          },
          "execution_count": 53
        }
      ]
    },
    {
      "cell_type": "code",
      "metadata": {
        "colab": {
          "base_uri": "https://localhost:8080/"
        },
        "id": "tYIhXyAYotCo",
        "outputId": "d718cecf-c3ba-497c-d098-3f2003e9c370"
      },
      "source": [
        "print(classification_report(y_test,y_pred))"
      ],
      "execution_count": null,
      "outputs": [
        {
          "output_type": "stream",
          "text": [
            "              precision    recall  f1-score   support\n",
            "\n",
            "           0       0.76      0.90      0.83        82\n",
            "           1       0.89      0.79      0.84        75\n",
            "           2       0.79      0.95      0.87        44\n",
            "           3       0.97      0.76      0.85        45\n",
            "           4       0.92      0.88      0.90        25\n",
            "           5       1.00      0.78      0.88        18\n",
            "\n",
            "    accuracy                           0.85       289\n",
            "   macro avg       0.89      0.84      0.86       289\n",
            "weighted avg       0.86      0.85      0.85       289\n",
            "\n"
          ],
          "name": "stdout"
        }
      ]
    },
    {
      "cell_type": "code",
      "metadata": {
        "id": "-UTQvF9-pPPk"
      },
      "source": [],
      "execution_count": null,
      "outputs": []
    }
  ]
}